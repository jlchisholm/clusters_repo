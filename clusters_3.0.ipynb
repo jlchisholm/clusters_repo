{
 "cells": [
  {
   "cell_type": "code",
   "execution_count": 1,
   "metadata": {},
   "outputs": [
    {
     "name": "stdout",
     "output_type": "stream",
     "text": [
      "Welcome to JupyROOT 6.16/00\n"
     ]
    }
   ],
   "source": [
    "import Acqu as aq\n",
    "import Timepix\n",
    "import numpy as np\n",
    "import ROOT\n",
    "from rootpy.plotting import Hist, Hist2D, histogram, Canvas"
   ]
  },
  {
   "cell_type": "code",
   "execution_count": 2,
   "metadata": {},
   "outputs": [
    {
     "name": "stdout",
     "output_type": "stream",
     "text": [
      "Mk2 Data\n"
     ]
    }
   ],
   "source": [
    "inFile = '/w/work0/mainz/2019_05_Timepix3-Acqu/Timepix_33.dat'\n",
    "aq.openFile(inFile)"
   ]
  },
  {
   "cell_type": "code",
   "execution_count": 78,
   "metadata": {},
   "outputs": [
    {
     "ename": "TypeError",
     "evalue": "'key' is an invalid keyword argument for this function",
     "output_type": "error",
     "traceback": [
      "\u001b[0;31m\u001b[0m",
      "\u001b[0;31mTypeError\u001b[0mTraceback (most recent call last)",
      "\u001b[0;32m<ipython-input-78-d17b23b9aa82>\u001b[0m in \u001b[0;36m<module>\u001b[0;34m()\u001b[0m\n\u001b[1;32m     14\u001b[0m \u001b[0;34m\u001b[0m\u001b[0m\n\u001b[1;32m     15\u001b[0m \u001b[0;34m\u001b[0m\u001b[0m\n\u001b[0;32m---> 16\u001b[0;31m \u001b[0maq\u001b[0m\u001b[0;34m.\u001b[0m\u001b[0mrunFunction\u001b[0m\u001b[0;34m(\u001b[0m\u001b[0mplotTimepix\u001b[0m\u001b[0;34m,\u001b[0m\u001b[0;36m0\u001b[0m\u001b[0;34m,\u001b[0m\u001b[0;36m50000\u001b[0m\u001b[0;34m)\u001b[0m\u001b[0;34m\u001b[0m\u001b[0m\n\u001b[0m",
      "\u001b[0;32m/home/simong/AcquPy/Acqu.pyc\u001b[0m in \u001b[0;36mrunFunction\u001b[0;34m(function, minEvents, maxEvents)\u001b[0m\n\u001b[1;32m    200\u001b[0m             \u001b[0meventNo\u001b[0m \u001b[0;34m+=\u001b[0m \u001b[0;36m1\u001b[0m\u001b[0;34m\u001b[0m\u001b[0m\n\u001b[1;32m    201\u001b[0m             \u001b[0;32mif\u001b[0m\u001b[0;34m(\u001b[0m\u001b[0mprocessEvent\u001b[0m\u001b[0;34m(\u001b[0m\u001b[0mevent\u001b[0m\u001b[0;34m)\u001b[0m\u001b[0;34m)\u001b[0m\u001b[0;34m:\u001b[0m\u001b[0;34m\u001b[0m\u001b[0m\n\u001b[0;32m--> 202\u001b[0;31m                 \u001b[0;32mif\u001b[0m \u001b[0;34m(\u001b[0m\u001b[0meventNo\u001b[0m\u001b[0;34m>=\u001b[0m\u001b[0mminEvents\u001b[0m\u001b[0;34m)\u001b[0m\u001b[0;34m:\u001b[0m \u001b[0mfunction\u001b[0m\u001b[0;34m(\u001b[0m\u001b[0;34m)\u001b[0m\u001b[0;34m\u001b[0m\u001b[0m\n\u001b[0m\u001b[1;32m    203\u001b[0m             \u001b[0;32mif\u001b[0m \u001b[0;34m(\u001b[0m\u001b[0meventNo\u001b[0m\u001b[0;34m>=\u001b[0m\u001b[0mmaxEvents\u001b[0m \u001b[0;32mand\u001b[0m \u001b[0mmaxEvents\u001b[0m\u001b[0;34m)\u001b[0m\u001b[0;34m:\u001b[0m \u001b[0;32mreturn\u001b[0m\u001b[0;34m\u001b[0m\u001b[0m\n\u001b[1;32m    204\u001b[0m \u001b[0;34m\u001b[0m\u001b[0m\n",
      "\u001b[0;32m<ipython-input-78-d17b23b9aa82>\u001b[0m in \u001b[0;36mplotTimepix\u001b[0;34m()\u001b[0m\n\u001b[1;32m     11\u001b[0m             \u001b[0;32mreturn\u001b[0m \u001b[0mval\u001b[0m\u001b[0;34m[\u001b[0m\u001b[0;36m2\u001b[0m\u001b[0;34m]\u001b[0m\u001b[0;34m\u001b[0m\u001b[0m\n\u001b[1;32m     12\u001b[0m \u001b[0;34m\u001b[0m\u001b[0m\n\u001b[0;32m---> 13\u001b[0;31m         \u001b[0mTimepixAData\u001b[0m\u001b[0;34m.\u001b[0m\u001b[0msort\u001b[0m\u001b[0;34m(\u001b[0m\u001b[0mkey\u001b[0m\u001b[0;34m=\u001b[0m\u001b[0msortSecond\u001b[0m\u001b[0;34m)\u001b[0m\u001b[0;34m\u001b[0m\u001b[0m\n\u001b[0m\u001b[1;32m     14\u001b[0m \u001b[0;34m\u001b[0m\u001b[0m\n\u001b[1;32m     15\u001b[0m \u001b[0;34m\u001b[0m\u001b[0m\n",
      "\u001b[0;31mTypeError\u001b[0m: 'key' is an invalid keyword argument for this function"
     ]
    }
   ],
   "source": [
    "def plotTimepix():\n",
    "    if(aq.epicsEvent==1):\n",
    "        nHitsA       = aq.getEpicsPV('PPOL:TIMEPIXA:NHITS')\n",
    "        encodedA     = aq.getEpicsPV('PPOL:TIMEPIXA:ENCODED')\n",
    "        nHitsB       = aq.getEpicsPV('PPOL:TIMEPIXB:NHITS')\n",
    "        encodedB     = aq.getEpicsPV('PPOL:TIMEPIXB:ENCODED')\n",
    "        TimepixAData = Timepix.Decode(nHitsA,encodedA)\n",
    "        TimepixBData = Timepix.Decode(nHitsB,encodedB)\n",
    "        \n",
    "        def sortSecond(val): \n",
    "            return val[2]  \n",
    "        \n",
    "        TimepixAData.sort(key=sortSecond) \n",
    "\n",
    "\n",
    "aq.runFunction(plotTimepix,0,50000)        "
   ]
  },
  {
   "cell_type": "code",
   "execution_count": 72,
   "metadata": {},
   "outputs": [
    {
     "name": "stdout",
     "output_type": "stream",
     "text": [
      "[(3, 3, 1), (1, 1, 2), (1, 2, 3)]\n",
      "[(1, 2, 3), (1, 1, 2), (3, 3, 1)]\n"
     ]
    }
   ],
   "source": [
    "\n",
    "# Python program to demonstrate sorting by user's \n",
    "# choice \n",
    "  \n",
    "# function to return the second element of the \n",
    "# two elements passed as the paramater \n",
    "def sortSecond(val): \n",
    "    return val[2]  \n",
    "  \n",
    "# list1 to demonstrate the use of sorting  \n",
    "# using using second key  \n",
    "list1 = [(1, 2, 3), (3, 3, 1), (1, 1, 2)] \n",
    "  \n",
    "# sorts the array in ascending according to  \n",
    "# second element \n",
    "list1.sort(key = sortSecond)  \n",
    "print(list1) \n",
    "  \n",
    "# sorts the array in descending according to \n",
    "# second element \n",
    "list1.sort(key = sortSecond, reverse = True) \n",
    "print(list1) \n"
   ]
  },
  {
   "cell_type": "code",
   "execution_count": 76,
   "metadata": {},
   "outputs": [
    {
     "name": "stderr",
     "output_type": "stream",
     "text": [
      "WARNING:ROOT.TCanvas.Constructor] Deleting canvas with same name: my4\n"
     ]
    },
    {
     "ename": "TypeError",
     "evalue": "'key' is an invalid keyword argument for this function",
     "output_type": "error",
     "traceback": [
      "\u001b[0;31m\u001b[0m",
      "\u001b[0;31mTypeError\u001b[0mTraceback (most recent call last)",
      "\u001b[0;32m<ipython-input-76-f7b1f16bdab0>\u001b[0m in \u001b[0;36m<module>\u001b[0;34m()\u001b[0m\n\u001b[1;32m     54\u001b[0m \u001b[0;34m\u001b[0m\u001b[0m\n\u001b[1;32m     55\u001b[0m \u001b[0;34m\u001b[0m\u001b[0m\n\u001b[0;32m---> 56\u001b[0;31m \u001b[0maq\u001b[0m\u001b[0;34m.\u001b[0m\u001b[0mrunFunction\u001b[0m\u001b[0;34m(\u001b[0m\u001b[0mplotTimepix\u001b[0m\u001b[0;34m,\u001b[0m\u001b[0;36m0\u001b[0m\u001b[0;34m,\u001b[0m\u001b[0;36m50000\u001b[0m\u001b[0;34m)\u001b[0m\u001b[0;34m\u001b[0m\u001b[0m\n\u001b[0m",
      "\u001b[0;32m/home/simong/AcquPy/Acqu.pyc\u001b[0m in \u001b[0;36mrunFunction\u001b[0;34m(function, minEvents, maxEvents)\u001b[0m\n\u001b[1;32m    200\u001b[0m             \u001b[0meventNo\u001b[0m \u001b[0;34m+=\u001b[0m \u001b[0;36m1\u001b[0m\u001b[0;34m\u001b[0m\u001b[0m\n\u001b[1;32m    201\u001b[0m             \u001b[0;32mif\u001b[0m\u001b[0;34m(\u001b[0m\u001b[0mprocessEvent\u001b[0m\u001b[0;34m(\u001b[0m\u001b[0mevent\u001b[0m\u001b[0;34m)\u001b[0m\u001b[0;34m)\u001b[0m\u001b[0;34m:\u001b[0m\u001b[0;34m\u001b[0m\u001b[0m\n\u001b[0;32m--> 202\u001b[0;31m                 \u001b[0;32mif\u001b[0m \u001b[0;34m(\u001b[0m\u001b[0meventNo\u001b[0m\u001b[0;34m>=\u001b[0m\u001b[0mminEvents\u001b[0m\u001b[0;34m)\u001b[0m\u001b[0;34m:\u001b[0m \u001b[0mfunction\u001b[0m\u001b[0;34m(\u001b[0m\u001b[0;34m)\u001b[0m\u001b[0;34m\u001b[0m\u001b[0m\n\u001b[0m\u001b[1;32m    203\u001b[0m             \u001b[0;32mif\u001b[0m \u001b[0;34m(\u001b[0m\u001b[0meventNo\u001b[0m\u001b[0;34m>=\u001b[0m\u001b[0mmaxEvents\u001b[0m \u001b[0;32mand\u001b[0m \u001b[0mmaxEvents\u001b[0m\u001b[0;34m)\u001b[0m\u001b[0;34m:\u001b[0m \u001b[0;32mreturn\u001b[0m\u001b[0;34m\u001b[0m\u001b[0m\n\u001b[1;32m    204\u001b[0m \u001b[0;34m\u001b[0m\u001b[0m\n",
      "\u001b[0;32m<ipython-input-76-f7b1f16bdab0>\u001b[0m in \u001b[0;36mplotTimepix\u001b[0;34m()\u001b[0m\n\u001b[1;32m     20\u001b[0m         \u001b[0mencodedA\u001b[0m     \u001b[0;34m=\u001b[0m \u001b[0maq\u001b[0m\u001b[0;34m.\u001b[0m\u001b[0mgetEpicsPV\u001b[0m\u001b[0;34m(\u001b[0m\u001b[0;34m'PPOL:TIMEPIXA:ENCODED'\u001b[0m\u001b[0;34m)\u001b[0m\u001b[0;34m\u001b[0m\u001b[0m\n\u001b[1;32m     21\u001b[0m         \u001b[0mTimepixAData\u001b[0m \u001b[0;34m=\u001b[0m \u001b[0mTimepix\u001b[0m\u001b[0;34m.\u001b[0m\u001b[0mDecode\u001b[0m\u001b[0;34m(\u001b[0m\u001b[0mnHitsA\u001b[0m\u001b[0;34m,\u001b[0m\u001b[0mencodedA\u001b[0m\u001b[0;34m)\u001b[0m \u001b[0;31m# nHitsA == len(TimepixAData)\u001b[0m\u001b[0;34m\u001b[0m\u001b[0m\n\u001b[0;32m---> 22\u001b[0;31m         \u001b[0mTimepixAData\u001b[0m\u001b[0;34m.\u001b[0m\u001b[0msort\u001b[0m\u001b[0;34m(\u001b[0m\u001b[0mkey\u001b[0m \u001b[0;34m=\u001b[0m \u001b[0msortThird\u001b[0m\u001b[0;34m)\u001b[0m\u001b[0;34m\u001b[0m\u001b[0m\n\u001b[0m\u001b[1;32m     23\u001b[0m \u001b[0;34m\u001b[0m\u001b[0m\n\u001b[1;32m     24\u001b[0m         \u001b[0mblen\u001b[0m \u001b[0;34m=\u001b[0m \u001b[0mnHitsA\u001b[0m\u001b[0;34m\u001b[0m\u001b[0m\n",
      "\u001b[0;31mTypeError\u001b[0m: 'key' is an invalid keyword argument for this function"
     ]
    }
   ],
   "source": [
    "ROOT.enableJSVis()\n",
    "\n",
    "tdposA = Hist2D(256,0,256,256,0,256)\n",
    "\n",
    "c4 = ROOT.TCanvas(\"my4\",\"Clusters\", 1000,1000)\n",
    "\n",
    "def sortThird(val):\n",
    "    return val[2]\n",
    "\n",
    "\n",
    "def plotTimepix():\n",
    "    cl = [None]*100          # a cluster can hold up to 100 hits\n",
    "    cn = 0                   # counts number of hits in current cluster\n",
    "    blen = 0                 # the length of the current tp3 buffer (?)\n",
    "    b = 0                    # the running (current?) buffer position\n",
    "    nc = 0                   # count the number of clusters found\n",
    "\n",
    "    if(aq.epicsEvent==1): # each time it goes through this is a buffer?\n",
    "        nHitsA       = aq.getEpicsPV('PPOL:TIMEPIXA:NHITS')\n",
    "        encodedA     = aq.getEpicsPV('PPOL:TIMEPIXA:ENCODED')\n",
    "        TimepixAData = Timepix.Decode(nHitsA,encodedA) # nHitsA == len(TimepixAData)\n",
    "        TimepixAData.sort(key = sortThird)\n",
    "        \n",
    "        blen = nHitsA\n",
    "\n",
    "        while(b<blen):        # for every buffer position in the buffer?\n",
    "            cn = 0            # zero the cluster counter for the current buffer position\n",
    "            cl[cn] = b        # assume the current position has the first hit in the cluster and save it#\n",
    "            cn+=1             # increment the counter, since we've counted a hit\n",
    "            # this next bit was a for loop in Ken's code\n",
    "            c=b+1             # start at position c that is one above the current buffer position\n",
    "            while((c<b+99) and (c<blen)): # check all positions up to 99 away, as long as we're still in the buffer\n",
    "                if(abs(TimepixAData[c]['ToA']- TimepixAData[b]['ToA'] < 100)):   # if an event at c is within 100ns of that at the current buffer position\n",
    "                    cl[cn] = c                             # save this position to the cluster\n",
    "                    cn+=1                                  # increment the counter, since we've counted a hit\n",
    "                else:\n",
    "                    process_cluster(TimepixAData)               # analyze the cluster we found\n",
    "                    b+=cn                           # move on beyond this cluster\n",
    "                    cn = 0                          # reset the counter for hits in the cluster\n",
    "                    cl = [None]*100                 # reset the array of cluster hits\n",
    "                    nc+=1                           # increment the number of clusters found\n",
    "\n",
    "                    if(c<b+99 and c<blen):          # if we're still in the loop\n",
    "                        cl[cn] = b                  # assume current position is the first in the new cluster\n",
    "                        cn+=1                       # increment the counter, since we've counted a hit\n",
    "\n",
    "                c+=1 # move to the next position and go through this loop again\n",
    "            b+=1\n",
    "    \n",
    "\n",
    "    tdposA.Draw(\"colz\")\n",
    "    c4.Draw()\n",
    "        \n",
    "        \n",
    "        \n",
    "aq.runFunction(plotTimepix,0,50000)"
   ]
  },
  {
   "cell_type": "code",
   "execution_count": 60,
   "metadata": {},
   "outputs": [],
   "source": [
    "def process_cluster(TimepixAData):\n",
    "    start_index = cl[0]                  # start index of the first hit in the cluster\n",
    "    print(start_index)\n",
    "    min_time = TimepixAData['ToA'][start_index]     # time of the first hit in the cluster\n",
    "    dtime = 0.0                          # time difference?\n",
    "    meanx = 0.0\n",
    "    meany = 0.0\n",
    "    \n",
    "    # this next bit was a for loop in Ken's code\n",
    "    n = start_index\n",
    "    while(n<start_index+cn):             # go through each hit in the cluster\n",
    "        if(TimepixAData['ToA'][n] < min_time):      # if we find a time smaller than the current min time\n",
    "            min_time = TimepixAData['ToA'][n]      # reassign the smaller time to be the min time\n",
    "        meanx+=TimepixAData['x'][n]               # add up all the x positions\n",
    "        meany+=TimepixAData['y'][n]               # add up all the y positions\n",
    "        n+=1                             # move to the next hit in the cluster\n",
    "\n",
    "    meanx/=cn                        # calculate the mean x position\n",
    "    meany/=cn                        # calculate the mean y position\n",
    "    \n",
    "    tdposA.Fill(meanx,meany)         # plot mean y vs. mean x\n",
    "    multA.Fill(cn)                   # plot the counts in the cluster\n",
    "    \n",
    "    # this next bit was a for loop in Ken's code\n",
    "    n = start_index\n",
    "    while(n<start_index+cn):               # for each hit in the cluster\n",
    "        dtime = TimepixAData['ToA'][n] - min_time     # find time difference between a hit in the cluster and the min time of the cluster\n",
    "        dthistA.Fill(dtime)                # put the time difference in the histogram\n",
    "        dtime_toaA.Fill(dtime,TimepixAData[n][1])\n",
    "        n+=1                               # move to the next hit in the cluster"
   ]
  },
  {
   "cell_type": "code",
   "execution_count": null,
   "metadata": {},
   "outputs": [],
   "source": []
  }
 ],
 "metadata": {
  "kernelspec": {
   "display_name": "Python 2",
   "language": "python",
   "name": "python2"
  },
  "language_info": {
   "codemirror_mode": {
    "name": "ipython",
    "version": 2
   },
   "file_extension": ".py",
   "mimetype": "text/x-python",
   "name": "python",
   "nbconvert_exporter": "python",
   "pygments_lexer": "ipython2",
   "version": "2.7.15"
  }
 },
 "nbformat": 4,
 "nbformat_minor": 2
}
