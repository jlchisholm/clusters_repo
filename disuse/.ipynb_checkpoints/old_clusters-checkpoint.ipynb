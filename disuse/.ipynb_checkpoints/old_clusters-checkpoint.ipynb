{
 "cells": [
  {
   "cell_type": "markdown",
   "metadata": {},
   "source": [
    "Note: this is an old copy of the code worked on, which was abandoned for a fresh start."
   ]
  },
  {
   "cell_type": "markdown",
   "metadata": {},
   "source": [
    "# A (Possible?) Code for Identifying Clusters"
   ]
  },
  {
   "cell_type": "markdown",
   "metadata": {},
   "source": [
    "First, we import Acqu (which parses the events?) and Timepix (which decodes the data??), as well as numpy, ROOT, and plotting classes of ROOT which allow us to organize and graph the data."
   ]
  },
  {
   "cell_type": "code",
   "execution_count": 1,
   "metadata": {},
   "outputs": [
    {
     "name": "stdout",
     "output_type": "stream",
     "text": [
      "Welcome to JupyROOT 6.16/00\n"
     ]
    }
   ],
   "source": [
    "import Acqu as aq\n",
    "import Timepix\n",
    "import numpy as np\n",
    "import ROOT\n",
    "from rootpy.plotting import Hist, Hist2D, histogram, Canvas\n",
    "from ipykernel import kernelapp as app"
   ]
  },
  {
   "cell_type": "markdown",
   "metadata": {},
   "source": [
    "Next, we import the data that was collected and open that data file."
   ]
  },
  {
   "cell_type": "code",
   "execution_count": 2,
   "metadata": {},
   "outputs": [
    {
     "name": "stdout",
     "output_type": "stream",
     "text": [
      "Mk2 Data\n"
     ]
    }
   ],
   "source": [
    "inFile = '/scratch/2019-05_Timepix/Timepix_33.dat'\n",
    "aq.openFile(inFile)"
   ]
  },
  {
   "cell_type": "markdown",
   "metadata": {},
   "source": [
    "Getting arrays of the data from each detector"
   ]
  },
  {
   "cell_type": "code",
   "execution_count": 3,
   "metadata": {},
   "outputs": [],
   "source": [
    "TimepixAData = []\n",
    "TimepixBData = []\n",
    "\n",
    "def plotTimepix():\n",
    "    if(aq.epicsEvent==1):\n",
    "        nHitsA       = aq.getEpicsPV('PPOL:TIMEPIXA:NHITS')\n",
    "        encodedA     = aq.getEpicsPV('PPOL:TIMEPIXA:ENCODED')\n",
    "        nHitsB       = aq.getEpicsPV('PPOL:TIMEPIXB:NHITS')\n",
    "        encodedB     = aq.getEpicsPV('PPOL:TIMEPIXB:ENCODED')\n",
    "        TimepixAData.append(Timepix.Decode(nHitsA,encodedA))\n",
    "        TimepixBData.append(Timepix.Decode(nHitsB,encodedB))       \n",
    "aq.runFunction(plotTimepix,0,50000)\n",
    "\n",
    "# do we need to sort the data first???"
   ]
  },
  {
   "cell_type": "markdown",
   "metadata": {},
   "source": [
    "If we want to/need to, we could loop through and make an array of just a certain value (say ToA):"
   ]
  },
  {
   "cell_type": "code",
   "execution_count": 1,
   "metadata": {},
   "outputs": [
    {
     "ename": "NameError",
     "evalue": "name 'TimepixAData' is not defined",
     "output_type": "error",
     "traceback": [
      "\u001b[0;31m---------------------------------------------------------------------------\u001b[0m",
      "\u001b[0;31mNameError\u001b[0m                                 Traceback (most recent call last)",
      "\u001b[0;32m<ipython-input-1-5af4d7449459>\u001b[0m in \u001b[0;36m<module>\u001b[0;34m()\u001b[0m\n\u001b[1;32m      2\u001b[0m \u001b[0mToAA\u001b[0m \u001b[0;34m=\u001b[0m \u001b[0;34m[\u001b[0m\u001b[0;34m]\u001b[0m\u001b[0;34m\u001b[0m\u001b[0m\n\u001b[1;32m      3\u001b[0m \u001b[0;34m\u001b[0m\u001b[0m\n\u001b[0;32m----> 4\u001b[0;31m \u001b[0;32mfor\u001b[0m \u001b[0mi\u001b[0m \u001b[0;32min\u001b[0m \u001b[0mrange\u001b[0m\u001b[0;34m(\u001b[0m\u001b[0mlen\u001b[0m\u001b[0;34m(\u001b[0m\u001b[0mTimepixAData\u001b[0m\u001b[0;34m)\u001b[0m\u001b[0;34m)\u001b[0m\u001b[0;34m:\u001b[0m\u001b[0;34m\u001b[0m\u001b[0m\n\u001b[0m\u001b[1;32m      5\u001b[0m     \u001b[0mToAAData\u001b[0m\u001b[0;34m.\u001b[0m\u001b[0mappend\u001b[0m\u001b[0;34m(\u001b[0m\u001b[0mTimepixAData\u001b[0m\u001b[0;34m[\u001b[0m\u001b[0mi\u001b[0m\u001b[0;34m]\u001b[0m\u001b[0;34m[\u001b[0m\u001b[0;34m'ToA'\u001b[0m\u001b[0;34m]\u001b[0m\u001b[0;34m)\u001b[0m\u001b[0;34m\u001b[0m\u001b[0m\n\u001b[1;32m      6\u001b[0m \u001b[0;32mfor\u001b[0m \u001b[0mj\u001b[0m \u001b[0;32min\u001b[0m \u001b[0mrange\u001b[0m\u001b[0;34m(\u001b[0m\u001b[0mlen\u001b[0m\u001b[0;34m(\u001b[0m\u001b[0mToAAData\u001b[0m\u001b[0;34m)\u001b[0m\u001b[0;34m)\u001b[0m\u001b[0;34m:\u001b[0m\u001b[0;34m\u001b[0m\u001b[0m\n",
      "\u001b[0;31mNameError\u001b[0m: name 'TimepixAData' is not defined"
     ]
    }
   ],
   "source": [
    "ToAAData = []\n",
    "ToAA = []\n",
    "\n",
    "for i in range(len(TimepixAData)):\n",
    "    ToAAData.append(TimepixAData[i]['ToA'])\n",
    "for j in range(len(ToAAData)):\n",
    "    for k in range(len(ToAAData[j])):\n",
    "        ToAA.append(ToAAData[j][k])\n",
    "\n",
    "ToAA.sort()\n",
    "        \n",
    "ToABData = []\n",
    "ToAB = []\n",
    "\n",
    "for i in range(len(TimepixBData)):\n",
    "    ToABData.append(TimepixBData[i]['ToA'])\n",
    "for j in range(len(ToABData)):\n",
    "    for k in range(len(ToABData[j])):\n",
    "        ToAB.append(ToABData[j][k])\n",
    "\n",
    "ToAB.sort()\n",
    "\n",
    "print(ToAA)"
   ]
  },
  {
   "cell_type": "markdown",
   "metadata": {},
   "source": [
    "At some point we'll need to process the cluster:"
   ]
  },
  {
   "cell_type": "code",
   "execution_count": 5,
   "metadata": {},
   "outputs": [],
   "source": [
    "def process_cluster():\n",
    "    start_index = cl[0] # start index of the 1st cluster hit\n",
    "    min_time = TimepixAData[0]['ToA'][start_index]# time (of arrival) of the first hit\n",
    "    #dtime = Null # time differences?\n",
    "    meanx = 0.0\n",
    "    meany = 0.0\n",
    "    print(\"cn\",cn)\n",
    "    \n",
    "    n = start_index\n",
    "    while(n<start_index+cn): # loop over the cluster to find the lowest time, etc. (for loop in Ken's code)\n",
    "        if(ToAA[n] < min_time): # if the time at this hit is less than the min time we've found\n",
    "            min_time = ToAA[n]# then set this lower value to the min time\n",
    "     #   meanx+=TimepixAData[0]['x'][n] # adding up all x positions\n",
    "      #  print(\"x\", meanx)\n",
    "       # meany+=TimepixAData[0]['y'][n] # adding up all y positions\n",
    "        #print(\"y\", meany)\n",
    "       # n+=1\n",
    "    print(min_time)\n",
    "    \n",
    "   # meanx/=cn # divide the sum of positions by number of hits to get the mean\n",
    "  #  meany/=cn # same as meanx, but for y\n",
    "    \n",
    "   # ROOT.enableJSVis()\n",
    "    \n",
    " #   d2pos = Hist2D(10,0,150,10,0,150)\n",
    "  #  d2pos.Fill(meanx,meany)\n",
    "   # mult = Hist(100,0,100)\n",
    "    #mult.Fill(nc)\n",
    "    \n",
    "  #  print(meanx, meany)\n",
    "    \n",
    "  #  c4 = ROOT.TCanvas(\"my4\",\"The Canvas Title\",1000,1000)\n",
    " #   c4.Divide(2,1)\n",
    " #   c4.cd(1)\n",
    "  #  d2pos.Draw(\"colz\")\n",
    "   # c4.cd(2)\n",
    "    #mult.Draw()\n",
    "    #c4.Draw()\n",
    "    \n",
    "    \n",
    "    \n",
    "    \n",
    "    \n",
    "    print(\"process :)\")"
   ]
  },
  {
   "cell_type": "markdown",
   "metadata": {},
   "source": [
    "Now let's try to identify clusters. Note: I'm not sure how the data is organized"
   ]
  },
  {
   "cell_type": "code",
   "execution_count": null,
   "metadata": {},
   "outputs": [],
   "source": [
    "cl = [None]*100 # holds up to 100 hits in a cluster, initialized as None\n",
    "cn = 0 # count number of hits in current cluster\n",
    "blen = 0 # length of current timepix3 buffer\n",
    "b = 0 # running buffer position\n",
    "\n",
    "blen = 100 #readTimepixBufferFromFile()\n",
    "while(blen): # read each timepix buffer into timepix3, except it does't work\n",
    "    nc = 0 # zero the cluster counter - counts the number of clusters\n",
    "    while(b<blen): # for every hit in the buffer (buffer position is less than the length of the buffer)\n",
    "        cl[cn] = b # assume this buffer position is the 1st hit in the current cluster, save it to this cluster's array\n",
    "        cn+=1 # and increment the counter of hits in this cluster\n",
    "        c=b+1 # use c as a temporary buffer position to compare with\n",
    "        while((c<b+99) and c<blen): # check the next 99 to see if they are in the time window (for loop in Ken's code)\n",
    "            print(\"here\")\n",
    "            if(abs(ToAA[c]-ToAA[b])<100): # if within 100ns of other event in the cluster\n",
    "                print(ToAA[c])\n",
    "                cl[cn]=c # save the buffer position into this cluster's array\n",
    "                cn+=1 # increment the counter of hits in this cluster\n",
    "                print(\"inside\")\n",
    "                print(cl)\n",
    "                print(cn)\n",
    "            else:\n",
    "                print(\"there\")\n",
    "                if cl[0]!= None:\n",
    "                    process_cluster() # do something with this cluster\n",
    "                b+=cn # move on to check beyond this cluster\n",
    "                cn = 0 # reset the number of hits for the new cluster\n",
    "                cl = [None]*100 # reset the array for the new cluster\n",
    "                nc += 1 # increment the number of clusters found\n",
    "            c+=1 # increment to the next buffer position\n",
    "    print(\"end\")\n",
    "    break\n",
    "    \n",
    "    \n"
   ]
  },
  {
   "cell_type": "code",
   "execution_count": null,
   "metadata": {},
   "outputs": [],
   "source": []
  }
 ],
 "metadata": {
  "kernelspec": {
   "display_name": "Python 2",
   "language": "python",
   "name": "python2"
  },
  "language_info": {
   "codemirror_mode": {
    "name": "ipython",
    "version": 2
   },
   "file_extension": ".py",
   "mimetype": "text/x-python",
   "name": "python",
   "nbconvert_exporter": "python",
   "pygments_lexer": "ipython2",
   "version": "2.7.5"
  }
 },
 "nbformat": 4,
 "nbformat_minor": 2
}
